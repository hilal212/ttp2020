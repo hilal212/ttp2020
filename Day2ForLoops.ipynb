{
  "nbformat": 4,
  "nbformat_minor": 0,
  "metadata": {
    "colab": {
      "name": "Day2ForLoops.ipynb",
      "provenance": [],
      "collapsed_sections": [],
      "authorship_tag": "ABX9TyOZhtyWtwjpET77lV2u81Jp",
      "include_colab_link": true
    },
    "kernelspec": {
      "name": "python3",
      "display_name": "Python 3"
    },
    "language_info": {
      "name": "python"
    }
  },
  "cells": [
    {
      "cell_type": "markdown",
      "metadata": {
        "id": "view-in-github",
        "colab_type": "text"
      },
      "source": [
        "<a href=\"https://colab.research.google.com/github/hilal212/ttp2020/blob/main/Day2ForLoops.ipynb\" target=\"_parent\"><img src=\"https://colab.research.google.com/assets/colab-badge.svg\" alt=\"Open In Colab\"/></a>"
      ]
    },
    {
      "cell_type": "markdown",
      "source": [
        "\n",
        "For Loops"
      ],
      "metadata": {
        "id": "cJW4_NhZnmsn"
      }
    },
    {
      "cell_type": "code",
      "source": [
        "l = [1,2,3,4,5,6,7,8,9,10]\n",
        "for i in l:\n",
        "  print(i)"
      ],
      "metadata": {
        "colab": {
          "base_uri": "https://localhost:8080/"
        },
        "id": "fFKXVpinnxeA",
        "outputId": "65b7fb52-360c-4acf-984c-ddb275d6fb75"
      },
      "execution_count": null,
      "outputs": [
        {
          "output_type": "stream",
          "name": "stdout",
          "text": [
            "1\n",
            "2\n",
            "3\n",
            "4\n",
            "5\n",
            "6\n",
            "7\n",
            "8\n",
            "9\n",
            "10\n"
          ]
        }
      ]
    },
    {
      "cell_type": "code",
      "source": [
        "#print even numbers\n",
        "\n",
        "mlist = [1,22,34,43,52,632,733,800,923,1011,45,44,66]\n",
        "#in the previous line I created a list of numbers.\n",
        "\n",
        "for number in mlist:\n",
        "#in this line I created a for loop to iterate through my list of numbers\n",
        "\n",
        "  if number % 2 == 0:\n",
        "  #in this line I am using a conditional if-statement to determine if a number is even\n",
        "    print(number)\n",
        "    #in this line I am printing the iterator after the conditional statement has been executed."
      ],
      "metadata": {
        "colab": {
          "base_uri": "https://localhost:8080/"
        },
        "id": "PJXQzJMbn8KO",
        "outputId": "16359e27-814d-4ad2-835c-54480d2df1ee"
      },
      "execution_count": null,
      "outputs": [
        {
          "output_type": "stream",
          "name": "stdout",
          "text": [
            "22\n",
            "34\n",
            "52\n",
            "632\n",
            "800\n",
            "44\n",
            "66\n"
          ]
        }
      ]
    },
    {
      "cell_type": "code",
      "source": [
        "#print odd numbers\n",
        "\n",
        "mlist = [1,22,34,43,52,632,733,800,923,1011,45,44,66]\n",
        "#in the previous line I created a list of numbers.\n",
        "\n",
        "for number in mlist:\n",
        "#in this line I created a for loop to iterate through my list of numbers\n",
        "\n",
        "  if number % 2 == 1:\n",
        "  #in this line I am using a conditional if-statement to determine if a number is odd\n",
        "    print(number)\n",
        "    #in this line I am printing the iterator after the conditional statement has been executed."
      ],
      "metadata": {
        "colab": {
          "base_uri": "https://localhost:8080/"
        },
        "id": "2w1e55j9n9lK",
        "outputId": "1b513445-944f-4b03-d7ba-fc24a2338000"
      },
      "execution_count": null,
      "outputs": [
        {
          "output_type": "stream",
          "name": "stdout",
          "text": [
            "1\n",
            "43\n",
            "733\n",
            "923\n",
            "1011\n",
            "45\n"
          ]
        }
      ]
    },
    {
      "cell_type": "code",
      "source": [
        "list_sum = 0\n",
        "\n",
        "for num in l:\n",
        "  list_sum = list_sum + num\n",
        "print(list_sum)"
      ],
      "metadata": {
        "colab": {
          "base_uri": "https://localhost:8080/"
        },
        "id": "-kR1bLD1oB5z",
        "outputId": "75d2b4d2-3047-46b0-96b2-e4d40bf0c0e4"
      },
      "execution_count": null,
      "outputs": [
        {
          "output_type": "stream",
          "name": "stdout",
          "text": [
            "55\n"
          ]
        }
      ]
    },
    {
      "cell_type": "code",
      "source": [
        "for letter in 'This is a string.':\n",
        "  print(letter)"
      ],
      "metadata": {
        "colab": {
          "base_uri": "https://localhost:8080/"
        },
        "id": "SNZxu20ZoFfT",
        "outputId": "1dd08500-3387-4cab-f5e7-f21b06996f36"
      },
      "execution_count": null,
      "outputs": [
        {
          "output_type": "stream",
          "name": "stdout",
          "text": [
            "T\n",
            "h\n",
            "i\n",
            "s\n",
            " \n",
            "i\n",
            "s\n",
            " \n",
            "a\n",
            " \n",
            "s\n",
            "t\n",
            "r\n",
            "i\n",
            "n\n",
            "g\n",
            ".\n"
          ]
        }
      ]
    },
    {
      "cell_type": "code",
      "source": [
        "l = [(2,4), (6,8), (10,12)]\n",
        "for tup in l:\n",
        "    print(tup)"
      ],
      "metadata": {
        "colab": {
          "base_uri": "https://localhost:8080/"
        },
        "id": "hO1hnOf2oHng",
        "outputId": "1ebc4e3c-3ba9-4657-a593-42428de1da8d"
      },
      "execution_count": null,
      "outputs": [
        {
          "output_type": "stream",
          "name": "stdout",
          "text": [
            "(2, 4)\n",
            "(6, 8)\n",
            "(10, 12)\n"
          ]
        }
      ]
    },
    {
      "cell_type": "code",
      "source": [
        "for (t1,t2) in l:\n",
        "  print(t1)"
      ],
      "metadata": {
        "colab": {
          "base_uri": "https://localhost:8080/"
        },
        "id": "O5dxfzlVoJ9A",
        "outputId": "8e8caff6-456b-4e1d-f5a7-1abd1d87e9c0"
      },
      "execution_count": null,
      "outputs": [
        {
          "output_type": "stream",
          "name": "stdout",
          "text": [
            "2\n",
            "6\n",
            "10\n"
          ]
        }
      ]
    },
    {
      "cell_type": "code",
      "source": [
        "d = {'k1':1, 'k2':2, 'k3': 3}"
      ],
      "metadata": {
        "id": "wP-QVsWGoL_n"
      },
      "execution_count": null,
      "outputs": []
    },
    {
      "cell_type": "code",
      "source": [
        "for item in d:\n",
        "  print(item)"
      ],
      "metadata": {
        "colab": {
          "base_uri": "https://localhost:8080/"
        },
        "id": "tMNuJk8ooOJX",
        "outputId": "3816672f-02eb-44e4-b2fc-d9e8699721c0"
      },
      "execution_count": null,
      "outputs": [
        {
          "output_type": "stream",
          "name": "stdout",
          "text": [
            "k1\n",
            "k2\n",
            "k3\n"
          ]
        }
      ]
    },
    {
      "cell_type": "code",
      "source": [
        "for k,v in d.items():\n",
        "  print(k)\n",
        "  print(v)\n"
      ],
      "metadata": {
        "colab": {
          "base_uri": "https://localhost:8080/"
        },
        "id": "8OYFIJZroRyb",
        "outputId": "d471ce9c-a1c2-4134-8222-8d22cd788d2b"
      },
      "execution_count": null,
      "outputs": [
        {
          "output_type": "stream",
          "name": "stdout",
          "text": [
            "k1\n",
            "1\n",
            "k2\n",
            "2\n",
            "k3\n",
            "3\n"
          ]
        }
      ]
    },
    {
      "cell_type": "code",
      "source": [
        ""
      ],
      "metadata": {
        "id": "sbanSFNVoShp"
      },
      "execution_count": null,
      "outputs": []
    }
  ]
}